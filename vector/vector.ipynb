{
 "cells": [
  {
   "cell_type": "code",
   "execution_count": 36,
   "metadata": {},
   "outputs": [],
   "source": [
    "import chromadb\n",
    "import io\n",
    "import sys;"
   ]
  },
  {
   "cell_type": "code",
   "execution_count": 45,
   "metadata": {},
   "outputs": [
    {
     "ename": "ValueError",
     "evalue": "Collection my_collection already exists.",
     "output_type": "error",
     "traceback": [
      "\u001b[0;31m---------------------------------------------------------------------------\u001b[0m",
      "\u001b[0;31mValueError\u001b[0m                                Traceback (most recent call last)",
      "\u001b[1;32m/Users/ashkrit/_code/ai/nlp/vector/vector.ipynb Cell 2\u001b[0m line \u001b[0;36m4\n\u001b[1;32m      <a href='vscode-notebook-cell:/Users/ashkrit/_code/ai/nlp/vector/vector.ipynb#W1sZmlsZQ%3D%3D?line=0'>1</a>\u001b[0m \u001b[39m#chroma_client = chromadb.Client()\u001b[39;00m\n\u001b[1;32m      <a href='vscode-notebook-cell:/Users/ashkrit/_code/ai/nlp/vector/vector.ipynb#W1sZmlsZQ%3D%3D?line=1'>2</a>\u001b[0m chroma_client \u001b[39m=\u001b[39m chromadb\u001b[39m.\u001b[39mPersistentClient(path\u001b[39m=\u001b[39m\u001b[39m\"\u001b[39m\u001b[39m/Users/ashkrit/_tmp/vectordb/chroma2\u001b[39m\u001b[39m\"\u001b[39m)\n\u001b[0;32m----> <a href='vscode-notebook-cell:/Users/ashkrit/_code/ai/nlp/vector/vector.ipynb#W1sZmlsZQ%3D%3D?line=3'>4</a>\u001b[0m collection \u001b[39m=\u001b[39m chroma_client\u001b[39m.\u001b[39;49mcreate_collection(name\u001b[39m=\u001b[39;49m\u001b[39m\"\u001b[39;49m\u001b[39mmy_collection\u001b[39;49m\u001b[39m\"\u001b[39;49m)\n",
      "File \u001b[0;32m/Library/Frameworks/Python.framework/Versions/3.10/lib/python3.10/site-packages/chromadb/api/segment.py:122\u001b[0m, in \u001b[0;36mSegmentAPI.create_collection\u001b[0;34m(self, name, metadata, embedding_function, get_or_create)\u001b[0m\n\u001b[1;32m    114\u001b[0m         \u001b[39mreturn\u001b[39;00m Collection(\n\u001b[1;32m    115\u001b[0m             client\u001b[39m=\u001b[39m\u001b[39mself\u001b[39m,\n\u001b[1;32m    116\u001b[0m             \u001b[39mid\u001b[39m\u001b[39m=\u001b[39mexisting[\u001b[39m0\u001b[39m][\u001b[39m\"\u001b[39m\u001b[39mid\u001b[39m\u001b[39m\"\u001b[39m],\n\u001b[0;32m   (...)\u001b[0m\n\u001b[1;32m    119\u001b[0m             embedding_function\u001b[39m=\u001b[39membedding_function,\n\u001b[1;32m    120\u001b[0m         )\n\u001b[1;32m    121\u001b[0m     \u001b[39melse\u001b[39;00m:\n\u001b[0;32m--> 122\u001b[0m         \u001b[39mraise\u001b[39;00m \u001b[39mValueError\u001b[39;00m(\u001b[39mf\u001b[39m\u001b[39m\"\u001b[39m\u001b[39mCollection \u001b[39m\u001b[39m{\u001b[39;00mname\u001b[39m}\u001b[39;00m\u001b[39m already exists.\u001b[39m\u001b[39m\"\u001b[39m)\n\u001b[1;32m    124\u001b[0m \u001b[39m# TODO: remove backwards compatibility in naming requirements\u001b[39;00m\n\u001b[1;32m    125\u001b[0m check_index_name(name)\n",
      "\u001b[0;31mValueError\u001b[0m: Collection my_collection already exists."
     ]
    }
   ],
   "source": [
    "#chroma_client = chromadb.Client()\n",
    "chroma_client = chromadb.PersistentClient(path=\"/Users/ashkrit/_tmp/vectordb/chroma2\")\n",
    "\n",
    "collection = chroma_client.get_or_create_collection(name=\"my_collection\")"
   ]
  },
  {
   "cell_type": "code",
   "execution_count": 38,
   "metadata": {},
   "outputs": [],
   "source": [
    "file_name = \"AMAZON_FASHION.json\"\n",
    "line_count = 0\n",
    "lines = []\n",
    "for line in io.open(f\"/Users/ashkrit/_tmp/data/{file_name}\"):\n",
    "    lines.append(line.strip())\n",
    "    line_count += 1\n",
    "    if (line_count >= 10):\n",
    "        break"
   ]
  },
  {
   "cell_type": "code",
   "execution_count": 39,
   "metadata": {},
   "outputs": [
    {
     "data": {
      "text/plain": [
       "['{\"overall\": 5.0, \"verified\": true, \"reviewTime\": \"10 20, 2014\", \"reviewerID\": \"A1D4G1SNUZWQOT\", \"asin\": \"7106116521\", \"reviewerName\": \"Tracy\", \"reviewText\": \"Exactly what I needed.\", \"summary\": \"perfect replacements!!\", \"unixReviewTime\": 1413763200}',\n",
       " '{\"overall\": 2.0, \"vote\": \"3\", \"verified\": true, \"reviewTime\": \"09 28, 2014\", \"reviewerID\": \"A3DDWDH9PX2YX2\", \"asin\": \"7106116521\", \"reviewerName\": \"Sonja Lau\", \"reviewText\": \"I agree with the other review, the opening is too small.  I almost bent the hook on some very expensive earrings trying to get these up higher than just the end so they\\'re not seen.  Would not buy again but for the price, not sending back.\", \"summary\": \"I agree with the other review, the opening is ...\", \"unixReviewTime\": 1411862400}',\n",
       " '{\"overall\": 4.0, \"verified\": false, \"reviewTime\": \"08 25, 2014\", \"reviewerID\": \"A2MWC41EW7XL15\", \"asin\": \"7106116521\", \"reviewerName\": \"Kathleen\", \"reviewText\": \"Love these... I am going to order another pack to keep in work; someone (including myself) is always losing the back to an earring.  I don\\'t understand why all fish hook earrings don\\'t have them.  Just wish that they were a tiny bit longer.  :)\", \"summary\": \"My New \\'Friends\\' !!\", \"unixReviewTime\": 1408924800}',\n",
       " '{\"overall\": 2.0, \"verified\": true, \"reviewTime\": \"08 24, 2014\", \"reviewerID\": \"A2UH2QQ275NV45\", \"asin\": \"7106116521\", \"reviewerName\": \"Jodi Stoner\", \"reviewText\": \"too tiny an opening\", \"summary\": \"Two Stars\", \"unixReviewTime\": 1408838400}',\n",
       " '{\"overall\": 3.0, \"verified\": false, \"reviewTime\": \"07 27, 2014\", \"reviewerID\": \"A89F3LQADZBS5\", \"asin\": \"7106116521\", \"reviewerName\": \"Alexander D.\", \"reviewText\": \"Okay\", \"summary\": \"Three Stars\", \"unixReviewTime\": 1406419200}',\n",
       " '{\"overall\": 5.0, \"verified\": true, \"reviewTime\": \"07 19, 2014\", \"reviewerID\": \"A29HLOUW0NS0EH\", \"asin\": \"7106116521\", \"reviewerName\": \"Patricia R. Erwin\", \"reviewText\": \"Exactly what I wanted.\", \"summary\": \"Five Stars\", \"unixReviewTime\": 1405728000}',\n",
       " '{\"overall\": 4.0, \"verified\": true, \"reviewTime\": \"05 31, 2014\", \"reviewerID\": \"A7QS961ROI6E0\", \"asin\": \"7106116521\", \"reviewerName\": \"REBECCA S LAYTON\", \"reviewText\": \"These little plastic backs work great.  No more loosing \\\\\"hook\\\\\" earrings!  Wish I had ordered these sooner before I had lost some of my favorite earrings!\", \"summary\": \"Works great!\", \"unixReviewTime\": 1401494400}',\n",
       " '{\"overall\": 3.0, \"verified\": true, \"reviewTime\": \"09 22, 2013\", \"reviewerID\": \"A1BB77SEBQT8VX\", \"asin\": \"B00007GDFV\", \"style\": {\"Color:\": \" Black\"}, \"reviewerName\": \"Darrow H Ankrum II\", \"reviewText\": \"mother - in - law wanted it as a present for her sister. she liked it and said it would work.\", \"summary\": \"bought as a present\", \"unixReviewTime\": 1379808000}',\n",
       " '{\"overall\": 3.0, \"verified\": true, \"reviewTime\": \"07 17, 2013\", \"reviewerID\": \"AHWOW7D1ABO9C\", \"asin\": \"B00007GDFV\", \"style\": {\"Color:\": \" Black\"}, \"reviewerName\": \"rosieO\", \"reviewText\": \"Item is of good quality. Looks great, too. But it does not fit 100\\'s! But it can be stretched to fit them if you carefully push bottom of case with your fingers. Then shove in a pack of 100\\'s(max) and level it out as you close case stretching case closed. Leave a pk.in it for month or so & was la! Buxton is usually a good quality product!\", \"summary\": \"Buxton heiress collection\", \"unixReviewTime\": 1374019200}',\n",
       " '{\"overall\": 3.0, \"verified\": true, \"reviewTime\": \"04 13, 2013\", \"reviewerID\": \"AKS3GULZE0HFC\", \"asin\": \"B00007GDFV\", \"style\": {\"Color:\": \" Black\"}, \"reviewerName\": \"M. Waltman\", \"reviewText\": \"I had used my last el-cheapo fake leather cigarette case for SEVEN YEARS. It still closed completely but the plastic made to look like leather was literally falling off, so it was time for a new one. Cigarette cases for kings size cigs are not easy to come by these days I discovered, but I was thrilled to find this one on Amazon. It was a great price, REAL LEATHER, and even had the cool zipper pouch on the back. I was so excited to get my case and toss that other one! Well, within THREE DAYS one of the gold clasps literally broke off! I couldn\\'t believe it! I tried to super glue it back on and was not successful. so, I still use the case but it doesn\\'t close securely. I was very disappointed that my $3.00 plastic one lasted 7 years and this real nice leather one lasted 3 days!! But I still love the zipper pouch on the back, it\\'s great for the spare key to my car because I will not go ANYWHERE without my cigarettes!\", \"summary\": \"Top Clasp Broke Within 3 days!\", \"unixReviewTime\": 1365811200}']"
      ]
     },
     "execution_count": 39,
     "metadata": {},
     "output_type": "execute_result"
    }
   ],
   "source": [
    "lines"
   ]
  },
  {
   "cell_type": "code",
   "execution_count": 41,
   "metadata": {},
   "outputs": [],
   "source": [
    "ids = [f\"{file_name}_{x}\" for x in range(line_count)]\n",
    "sources = [{\"source\": file_name} for x in range(line_count)]\n",
    "documents = lines"
   ]
  },
  {
   "cell_type": "code",
   "execution_count": 42,
   "metadata": {},
   "outputs": [],
   "source": [
    "collection.add(\n",
    "    documents=documents,\n",
    "    metadatas=sources,\n",
    "    ids=ids\n",
    ")\n"
   ]
  },
  {
   "cell_type": "code",
   "execution_count": 44,
   "metadata": {},
   "outputs": [],
   "source": [
    "result = collection.query(query_texts=[\"any expensive items\"],n_results=2)"
   ]
  },
  {
   "cell_type": "code",
   "execution_count": 35,
   "metadata": {},
   "outputs": [
    {
     "data": {
      "text/plain": [
       "'{\"overall\": 3.0, \"verified\": true, \"reviewTime\": \"04 13, 2013\", \"reviewerID\": \"AKS3GULZE0HFC\", \"asin\": \"B00007GDFV\", \"style\": {\"Color:\": \" Black\"}, \"reviewerName\": \"M. Waltman\", \"reviewText\": \"I had used my last el-cheapo fake leather cigarette case for SEVEN YEARS. It still closed completely but the plastic made to look like leather was literally falling off, so it was time for a new one. Cigarette cases for kings size cigs are not easy to come by these days I discovered, but I was thrilled to find this one on Amazon. It was a great price, REAL LEATHER, and even had the cool zipper pouch on the back. I was so excited to get my case and toss that other one! Well, within THREE DAYS one of the gold clasps literally broke off! I couldn\\'t believe it! I tried to super glue it back on and was not successful. so, I still use the case but it doesn\\'t close securely. I was very disappointed that my $3.00 plastic one lasted 7 years and this real nice leather one lasted 3 days!! But I still love the zipper pouch on the back, it\\'s great for the spare key to my car because I will not go ANYWHERE without my cigarettes!\", \"summary\": \"Top Clasp Broke Within 3 days!\", \"unixReviewTime\": 1365811200}'"
      ]
     },
     "execution_count": 35,
     "metadata": {},
     "output_type": "execute_result"
    }
   ],
   "source": [
    "result['documents'][0][1]"
   ]
  }
 ],
 "metadata": {
  "kernelspec": {
   "display_name": "Python 3",
   "language": "python",
   "name": "python3"
  },
  "language_info": {
   "codemirror_mode": {
    "name": "ipython",
    "version": 3
   },
   "file_extension": ".py",
   "mimetype": "text/x-python",
   "name": "python",
   "nbconvert_exporter": "python",
   "pygments_lexer": "ipython3",
   "version": "3.10.0"
  },
  "orig_nbformat": 4
 },
 "nbformat": 4,
 "nbformat_minor": 2
}
