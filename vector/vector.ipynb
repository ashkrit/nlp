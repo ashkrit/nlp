{
 "cells": [
  {
   "cell_type": "code",
   "execution_count": 36,
   "metadata": {},
   "outputs": [],
   "source": [
    "import chromadb\n",
    "import io\n",
    "import sys;"
   ]
  },
  {
   "cell_type": "code",
   "execution_count": 46,
   "metadata": {},
   "outputs": [],
   "source": [
    "#chroma_client = chromadb.Client()\n",
    "chroma_client = chromadb.PersistentClient(path=\"/Users/ashkrit/_tmp/vectordb/chroma2\")\n",
    "collection = chroma_client.get_or_create_collection(name=\"my_collection\")"
   ]
  },
  {
   "cell_type": "code",
   "execution_count": null,
   "metadata": {},
   "outputs": [],
   "source": []
  },
  {
   "cell_type": "code",
   "execution_count": 47,
   "metadata": {},
   "outputs": [],
   "source": [
    "file_name = \"AMAZON_FASHION.json\"\n",
    "line_count = 0\n",
    "lines = []\n",
    "for line in io.open(f\"/Users/ashkrit/_tmp/data/{file_name}\"):\n",
    "    lines.append(line.strip())\n",
    "    line_count += 1\n",
    "    if (line_count >= 10):\n",
    "        break"
   ]
  },
  {
   "cell_type": "code",
   "execution_count": 41,
   "metadata": {},
   "outputs": [],
   "source": [
    "ids = [f\"{file_name}_{x}\" for x in range(line_count)]\n",
    "sources = [{\"source\": file_name} for x in range(line_count)]\n",
    "documents = lines"
   ]
  },
  {
   "cell_type": "code",
   "execution_count": 48,
   "metadata": {},
   "outputs": [
    {
     "name": "stderr",
     "output_type": "stream",
     "text": [
      "Insert of existing embedding ID: AMAZON_FASHION.json_0\n",
      "Insert of existing embedding ID: AMAZON_FASHION.json_1\n",
      "Insert of existing embedding ID: AMAZON_FASHION.json_2\n",
      "Insert of existing embedding ID: AMAZON_FASHION.json_3\n",
      "Insert of existing embedding ID: AMAZON_FASHION.json_4\n",
      "Insert of existing embedding ID: AMAZON_FASHION.json_5\n",
      "Insert of existing embedding ID: AMAZON_FASHION.json_6\n",
      "Insert of existing embedding ID: AMAZON_FASHION.json_7\n",
      "Insert of existing embedding ID: AMAZON_FASHION.json_8\n",
      "Insert of existing embedding ID: AMAZON_FASHION.json_9\n",
      "Add of existing embedding ID: AMAZON_FASHION.json_0\n",
      "Add of existing embedding ID: AMAZON_FASHION.json_1\n",
      "Add of existing embedding ID: AMAZON_FASHION.json_2\n",
      "Add of existing embedding ID: AMAZON_FASHION.json_3\n",
      "Add of existing embedding ID: AMAZON_FASHION.json_4\n",
      "Add of existing embedding ID: AMAZON_FASHION.json_5\n",
      "Add of existing embedding ID: AMAZON_FASHION.json_6\n",
      "Add of existing embedding ID: AMAZON_FASHION.json_7\n",
      "Add of existing embedding ID: AMAZON_FASHION.json_8\n",
      "Add of existing embedding ID: AMAZON_FASHION.json_9\n"
     ]
    }
   ],
   "source": [
    "collection.add(\n",
    "    documents=documents,\n",
    "    metadatas=sources,\n",
    "    ids=ids\n",
    ")\n"
   ]
  },
  {
   "cell_type": "code",
   "execution_count": 49,
   "metadata": {},
   "outputs": [],
   "source": [
    "result = collection.query(query_texts=[\"any expensive items\"],n_results=2)"
   ]
  },
  {
   "cell_type": "code",
   "execution_count": 35,
   "metadata": {},
   "outputs": [
    {
     "data": {
      "text/plain": [
       "'{\"overall\": 3.0, \"verified\": true, \"reviewTime\": \"04 13, 2013\", \"reviewerID\": \"AKS3GULZE0HFC\", \"asin\": \"B00007GDFV\", \"style\": {\"Color:\": \" Black\"}, \"reviewerName\": \"M. Waltman\", \"reviewText\": \"I had used my last el-cheapo fake leather cigarette case for SEVEN YEARS. It still closed completely but the plastic made to look like leather was literally falling off, so it was time for a new one. Cigarette cases for kings size cigs are not easy to come by these days I discovered, but I was thrilled to find this one on Amazon. It was a great price, REAL LEATHER, and even had the cool zipper pouch on the back. I was so excited to get my case and toss that other one! Well, within THREE DAYS one of the gold clasps literally broke off! I couldn\\'t believe it! I tried to super glue it back on and was not successful. so, I still use the case but it doesn\\'t close securely. I was very disappointed that my $3.00 plastic one lasted 7 years and this real nice leather one lasted 3 days!! But I still love the zipper pouch on the back, it\\'s great for the spare key to my car because I will not go ANYWHERE without my cigarettes!\", \"summary\": \"Top Clasp Broke Within 3 days!\", \"unixReviewTime\": 1365811200}'"
      ]
     },
     "execution_count": 35,
     "metadata": {},
     "output_type": "execute_result"
    }
   ],
   "source": [
    "result['documents'][0][1]"
   ]
  },
  {
   "cell_type": "code",
   "execution_count": 60,
   "metadata": {},
   "outputs": [],
   "source": [
    "import pandas as pd\n",
    "import numpy as np"
   ]
  },
  {
   "cell_type": "code",
   "execution_count": 55,
   "metadata": {},
   "outputs": [],
   "source": [
    "ratings = pd.read_csv('/Users/ashkrit/_tmp/data/ml-latest-small/ratings.csv', header=None, names=[\"user id\", \"movie id\", \"rating\", \"timestamp\"])"
   ]
  },
  {
   "cell_type": "code",
   "execution_count": 56,
   "metadata": {},
   "outputs": [],
   "source": [
    "ratings = ratings.drop(columns=['timestamp'])\n",
    "ratings = ratings.drop(0)"
   ]
  },
  {
   "cell_type": "code",
   "execution_count": 61,
   "metadata": {},
   "outputs": [],
   "source": [
    "ratings[\"rating\"] = ratings[\"rating\"].values.astype(np.float32)\n",
    "ratings[\"user id\"] = ratings[\"user id\"].values.astype(np.int32)\n",
    "ratings[\"movie id\"] = ratings[\"movie id\"].values.astype(np.int32)"
   ]
  },
  {
   "cell_type": "code",
   "execution_count": 62,
   "metadata": {},
   "outputs": [],
   "source": [
    "reviewmatrix = ratings.pivot(index=\"user id\", columns=\"movie id\", values=\"rating\").fillna(0)"
   ]
  },
  {
   "cell_type": "code",
   "execution_count": 64,
   "metadata": {},
   "outputs": [
    {
     "data": {
      "text/plain": [
       "array([[4. , 0. , 4. , ..., 0. , 0. , 0. ],\n",
       "       [0. , 0. , 0. , ..., 0. , 0. , 0. ],\n",
       "       [0. , 0. , 0. , ..., 0. , 0. , 0. ],\n",
       "       ...,\n",
       "       [2.5, 2. , 2. , ..., 0. , 0. , 0. ],\n",
       "       [3. , 0. , 0. , ..., 0. , 0. , 0. ],\n",
       "       [5. , 0. , 0. , ..., 0. , 0. , 0. ]], dtype=float32)"
      ]
     },
     "execution_count": 64,
     "metadata": {},
     "output_type": "execute_result"
    }
   ],
   "source": [
    "reviewmatrix.values"
   ]
  },
  {
   "cell_type": "code",
   "execution_count": 66,
   "metadata": {},
   "outputs": [],
   "source": [
    "matrix = reviewmatrix.values\n",
    "u, s, vh = np.linalg.svd(matrix, full_matrices=False)"
   ]
  },
  {
   "cell_type": "code",
   "execution_count": 67,
   "metadata": {},
   "outputs": [],
   "source": [
    "vectors = np.rot90(np.fliplr(vh))"
   ]
  },
  {
   "cell_type": "code",
   "execution_count": 72,
   "metadata": {},
   "outputs": [
    {
     "name": "stdout",
     "output_type": "stream",
     "text": [
      "(9724, 610)\n"
     ]
    }
   ],
   "source": [
    " print(vectors.shape)"
   ]
  },
  {
   "cell_type": "code",
   "execution_count": null,
   "metadata": {},
   "outputs": [],
   "source": [
    "data = []\n",
    "for i in range(len(movies)):\n",
    "    data.append({\"id\": movies.iloc[i][\"movie id\"], \"title\": movies.iloc[i]['title'], \"vector\": vectors[i], \"genre\": movies.iloc[i]['genres']})\n",
    "    print(pd.DataFrame(data))"
   ]
  }
 ],
 "metadata": {
  "kernelspec": {
   "display_name": "Python 3",
   "language": "python",
   "name": "python3"
  },
  "language_info": {
   "codemirror_mode": {
    "name": "ipython",
    "version": 3
   },
   "file_extension": ".py",
   "mimetype": "text/x-python",
   "name": "python",
   "nbconvert_exporter": "python",
   "pygments_lexer": "ipython3",
   "version": "3.10.0"
  },
  "orig_nbformat": 4
 },
 "nbformat": 4,
 "nbformat_minor": 2
}
