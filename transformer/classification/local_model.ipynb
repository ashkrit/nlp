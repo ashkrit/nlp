{
 "cells": [
  {
   "cell_type": "code",
   "execution_count": 20,
   "metadata": {},
   "outputs": [],
   "source": [
    "from transformers import pipeline"
   ]
  },
  {
   "cell_type": "code",
   "execution_count": 21,
   "metadata": {},
   "outputs": [],
   "source": [
    "# Change `transformersbook` to your Hub username\n",
    "model_id = \"/Users/ashkrit/_tmp/model/finetuned-emotion\"\n",
    "classifier = pipeline(\"text-classification\", model=model_id)"
   ]
  },
  {
   "cell_type": "code",
   "execution_count": 24,
   "metadata": {},
   "outputs": [
    {
     "data": {
      "text/plain": [
       "[[{'label': 'sadness', 'score': 0.057319555431604385},\n",
       "  {'label': 'joy', 'score': 0.19161410629749298},\n",
       "  {'label': 'love', 'score': 0.017953552305698395},\n",
       "  {'label': 'anger', 'score': 0.07144320011138916},\n",
       "  {'label': 'fear', 'score': 0.597389280796051},\n",
       "  {'label': 'surprise', 'score': 0.06428028643131256}]]"
      ]
     },
     "execution_count": 24,
     "metadata": {},
     "output_type": "execute_result"
    }
   ],
   "source": [
    "custom_tweet = \"i did not find what i was looking for.\"\n",
    "preds = classifier(custom_tweet,return_all_scores=True)\n",
    "preds"
   ]
  }
 ],
 "metadata": {
  "kernelspec": {
   "display_name": "Python 3",
   "language": "python",
   "name": "python3"
  },
  "language_info": {
   "codemirror_mode": {
    "name": "ipython",
    "version": 3
   },
   "file_extension": ".py",
   "mimetype": "text/x-python",
   "name": "python",
   "nbconvert_exporter": "python",
   "pygments_lexer": "ipython3",
   "version": "3.10.0"
  },
  "orig_nbformat": 4
 },
 "nbformat": 4,
 "nbformat_minor": 2
}
